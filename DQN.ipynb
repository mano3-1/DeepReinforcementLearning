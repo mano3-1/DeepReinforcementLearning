{
  "nbformat": 4,
  "nbformat_minor": 0,
  "metadata": {
    "accelerator": "GPU",
    "colab": {
      "name": "DQN.ipynb",
      "provenance": []
    },
    "kernelspec": {
      "display_name": "Python 3",
      "name": "python3"
    }
  },
  "cells": [
    {
      "cell_type": "code",
      "metadata": {
        "colab": {
          "base_uri": "https://localhost:8080/"
        },
        "id": "FQiPaTe_vYLp",
        "outputId": "d31bee26-e4fc-4d39-9a04-0d32dcfec9e6"
      },
      "source": [
        "!pip install gym[atari]"
      ],
      "execution_count": 2,
      "outputs": [
        {
          "output_type": "stream",
          "text": [
            "Requirement already satisfied: gym[atari] in /usr/local/lib/python3.7/dist-packages (0.17.3)\n",
            "Requirement already satisfied: scipy in /usr/local/lib/python3.7/dist-packages (from gym[atari]) (1.4.1)\n",
            "Requirement already satisfied: cloudpickle<1.7.0,>=1.2.0 in /usr/local/lib/python3.7/dist-packages (from gym[atari]) (1.3.0)\n",
            "Requirement already satisfied: numpy>=1.10.4 in /usr/local/lib/python3.7/dist-packages (from gym[atari]) (1.19.5)\n",
            "Requirement already satisfied: pyglet<=1.5.0,>=1.4.0 in /usr/local/lib/python3.7/dist-packages (from gym[atari]) (1.5.0)\n",
            "Requirement already satisfied: atari-py~=0.2.0; extra == \"atari\" in /usr/local/lib/python3.7/dist-packages (from gym[atari]) (0.2.6)\n",
            "Requirement already satisfied: opencv-python; extra == \"atari\" in /usr/local/lib/python3.7/dist-packages (from gym[atari]) (4.1.2.30)\n",
            "Requirement already satisfied: Pillow; extra == \"atari\" in /usr/local/lib/python3.7/dist-packages (from gym[atari]) (7.0.0)\n",
            "Requirement already satisfied: future in /usr/local/lib/python3.7/dist-packages (from pyglet<=1.5.0,>=1.4.0->gym[atari]) (0.16.0)\n",
            "Requirement already satisfied: six in /usr/local/lib/python3.7/dist-packages (from atari-py~=0.2.0; extra == \"atari\"->gym[atari]) (1.15.0)\n"
          ],
          "name": "stdout"
        }
      ]
    },
    {
      "cell_type": "markdown",
      "metadata": {
        "id": "4ei7zQnKXTxm"
      },
      "source": [
        "# DQN Agent code\r\n"
      ]
    },
    {
      "cell_type": "code",
      "metadata": {
        "id": "7qc49GNln4MR"
      },
      "source": [
        "import torch as T\r\n",
        "from torch import nn\r\n",
        "from torch import optim as optim\r\n",
        "from torch.nn import functional as F\r\n",
        "\r\n",
        "import numpy as np\r\n",
        "\r\n",
        "class DQN(nn.Module):\r\n",
        "    def __init__(self, lr, input_dims, n_actions):\r\n",
        "        super(DQN,self).__init__()\r\n",
        "        self.input_dims = input_dims\r\n",
        "        self.n_actions = n_actions\r\n",
        "        c,_,_ = input_dims\r\n",
        "        self.conv1 = nn.Conv2d(c,8,(4,4),stride=(2,2))\r\n",
        "        self.conv2 = nn.Conv2d(8,16,(3,3),stride=(2,2))\r\n",
        "        self.conv3 = nn.Conv2d(16,32,(2,2),stride=(2,2))\r\n",
        "        self.conv4 = nn.Conv2d(32,64,(3,3),stride=(2,2))\r\n",
        "        self.maxpooling = nn.MaxPool2d((3,3))\r\n",
        "        self.flatten = nn.Flatten()\r\n",
        "        self.Dense = nn.Linear(64,n_actions)\r\n",
        "        \r\n",
        "        self.device = 'cuda:0' if T.cuda.is_available() else 'cpu'\r\n",
        "        self.optimizer = optim.SGD(self.parameters(), lr = lr)\r\n",
        "        self.to(self.device)\r\n",
        "        self.loss = nn.SmoothL1Loss()\r\n",
        "        \r\n",
        "    def forward(self,X):\r\n",
        "        X = X/255.0\r\n",
        "        X = X.float()\r\n",
        "        X = F.relu(self.conv1(X))\r\n",
        "        X = F.relu(self.conv2(X))\r\n",
        "        X = F.relu(self.conv3(X))\r\n",
        "        X = F.relu(self.conv4(X))\r\n",
        "        X = self.maxpooling(X)\r\n",
        "        X = self.flatten(X)\r\n",
        "        X = F.relu(self.Dense(X))\r\n",
        "        return X\r\n",
        "    \r\n",
        "class DQN_fc(nn.Module):\r\n",
        "    def __init__(self, lr, input_dims, n_actions, fc1 = 512, fc2 = 256):\r\n",
        "        super(DQN_fc,self).__init__()\r\n",
        "        self.input_dims = input_dims\r\n",
        "        self.n_actions = n_actions\r\n",
        "       \r\n",
        "        self.fc1 = fc1 \r\n",
        "        self.fc2 = fc2\r\n",
        "        \r\n",
        "        self.fc1_l = nn.Linear(*self.input_dims,self.fc1)\r\n",
        "        self.fc2_l = nn.Linear(self.fc1,self.fc2)\r\n",
        "        self.final = nn.Linear(self.fc2,self.n_actions)\r\n",
        "        \r\n",
        "        self.device = 'cuda:0' if T.cuda.is_available() else 'cpu'\r\n",
        "        self.optimizer = optim.SGD(self.parameters(), lr = lr)\r\n",
        "        self.to(self.device)\r\n",
        "        self.loss = nn.MSELoss()\r\n",
        "        \r\n",
        "    def forward(self,X):\r\n",
        "        X = X.float()\r\n",
        "        X = F.relu(self.fc1_l(X))\r\n",
        "        X = F.relu(self.fc2_l(X))\r\n",
        "        X = F.relu(self.final(X))\r\n",
        "        return X\r\n",
        "    \r\n",
        "class Agent():\r\n",
        "    def __init__(self, gamma, lr, input_dims, batch_size, n_actions, tau = 0.8,\r\n",
        "                 max_mem_size=1000 ,epsilon=1.0 ,fc = True ,fc1 = None,fc2 = None):\r\n",
        "        self.gamma = gamma\r\n",
        "        self.epsilon = epsilon\r\n",
        "        self.batch_size = batch_size\r\n",
        "        self.action_space = [i for i in range(n_actions)]\r\n",
        "        self.mem_size = max_mem_size\r\n",
        "        self.tau = tau\r\n",
        "        self.mem_cntr = 0\r\n",
        "    \r\n",
        "        if fc:\r\n",
        "            self.Q_eval = DQN_fc(lr,input_dims,n_actions,fc1,fc2)\r\n",
        "            self.Q_target = DQN_fc(lr,input_dims,n_actions,fc1,fc2)\r\n",
        "        else:\r\n",
        "            self.Q_eval = DQN(lr, input_dims, n_actions)\r\n",
        "            self.Q_target = DQN(lr, input_dims, n_actions)\r\n",
        "        self.state_memory = np.zeros((self.mem_size,*input_dims),dtype = np.float32)\r\n",
        "        self.new_state_memory = np.zeros((self.mem_size,*input_dims),dtype = np.float32)\r\n",
        "        self.action_memory = np.zeros(self.mem_size,dtype=np.int32)\r\n",
        "        self.reward_memory = np.zeros(self.mem_size,dtype=np.float32)\r\n",
        "        self.terminal_memory = np.zeros(self.mem_size,dtype=np.bool)\r\n",
        "        \r\n",
        "    def store_actions(self,state,action,state_,reward,done):\r\n",
        "        index = self.mem_cntr%self.mem_size\r\n",
        "        self.state_memory[index] = state\r\n",
        "        self.new_state_memory[index] = state_\r\n",
        "        self.action_memory[index] = action\r\n",
        "        self.reward_memory[index] = reward\r\n",
        "        self.terminal_memory[index] = done\r\n",
        "        self.mem_cntr+=1\r\n",
        "        \r\n",
        "    def choose_action(self,observation):\r\n",
        "        if np.random.random() > self.epsilon:\r\n",
        "            state = T.tensor([observation]).to(self.Q_eval.device)\r\n",
        "            actions = self.Q_eval(state)\r\n",
        "            action = T.argmax(actions).item()\r\n",
        "        else:\r\n",
        "            action = np.random.choice(self.action_space)\r\n",
        "        return action\r\n",
        "    \r\n",
        "    def learn(self):\r\n",
        "        if self.mem_cntr<self.batch_size:\r\n",
        "            return\r\n",
        "        self.Q_eval.optimizer.zero_grad()\r\n",
        "        max_mem = min(self.mem_cntr,self.mem_size)\r\n",
        "        batch = np.random.choice(max_mem,self.batch_size,replace=True)\r\n",
        "        \r\n",
        "        batch_index = np.arange(self.batch_size,dtype=np.int32)\r\n",
        "        \r\n",
        "        state_batch = T.tensor(self.state_memory[batch]).to(self.Q_eval.device)\r\n",
        "        new_state_batch = T.tensor(self.new_state_memory[batch]).to(self.Q_eval.device)\r\n",
        "        reward_batch = T.tensor(self.reward_memory[batch]).to(self.Q_eval.device)\r\n",
        "        action_batch = self.action_memory[batch]\r\n",
        "        terminal_batch = T.tensor(self.terminal_memory[batch]).to(self.Q_eval.device)\r\n",
        "        \r\n",
        "        q_eval = self.Q_eval(state_batch)[batch_index,action_batch]\r\n",
        "        q_next = self.Q_target(new_state_batch).max(1)[0].detach()\r\n",
        "        q_next[terminal_batch] = 0.0\r\n",
        "        q_target = reward_batch + self.gamma*q_next\r\n",
        "        loss = self.Q_eval.loss(q_target,q_eval).to(self.Q_eval.device)\r\n",
        "        loss.backward()\r\n",
        "        self.Q_eval.optimizer.step()\r\n",
        "        \r\n",
        "        #self.epsilon = self.epsilon-self.eps_dec if self.epsilon>self.eps_min else self.eps_min\r\n",
        "    \r\n",
        "    def train_targetnet(self):\r\n",
        "        for target_param, local_param in zip(self.Q_target.parameters(), self.Q_eval.parameters()):\r\n",
        "            target_param.data.copy_(self.tau*local_param.data + (1.0-self.tau)*target_param.data) \r\n",
        "\r\n",
        "def decay(value ,time_step ,thr ,mode = 'min' ,constant=0.001):\r\n",
        "    if mode=='max':\r\n",
        "        constant = -1*constant\r\n",
        "    value = value*np.exp(-constant*time_step)\r\n",
        "    if mode=='max':\r\n",
        "        return min(value,thr)\r\n",
        "    else:\r\n",
        "        return max(value,thr)"
      ],
      "execution_count": 29,
      "outputs": []
    },
    {
      "cell_type": "code",
      "metadata": {
        "colab": {
          "base_uri": "https://localhost:8080/"
        },
        "id": "7nmVujN7wxyo",
        "outputId": "e54e4cc5-a332-4a96-ed49-f8096e20fce8"
      },
      "source": [
        "import gym\r\n",
        "from matplotlib import pyplot as plt\r\n",
        "import cv2\r\n",
        "\r\n",
        "print(T.cuda.is_available())"
      ],
      "execution_count": 7,
      "outputs": [
        {
          "output_type": "stream",
          "text": [
            "True\n"
          ],
          "name": "stdout"
        }
      ]
    },
    {
      "cell_type": "markdown",
      "metadata": {
        "id": "fXcVb9w9XYMP"
      },
      "source": [
        "# 1. CartPole "
      ]
    },
    {
      "cell_type": "code",
      "metadata": {
        "colab": {
          "base_uri": "https://localhost:8080/",
          "height": 601
        },
        "id": "iFPy0ElIwr3E",
        "outputId": "2699ee8c-61a9-4e09-c9fd-b63f74c4578e"
      },
      "source": [
        "env = gym.make('CartPole-v0')\r\n",
        "#best params\r\n",
        "#gamma = 0.999 ,epsilon = 1.0, lr = 0.01, max_mem_size=10000, fc1 = 256, gc2 = 128,n_games=500, \r\n",
        "agent = Agent(gamma=0.8, epsilon=0.3, lr=0.001, tau = 0.3, max_mem_size=10000,\r\n",
        "              input_dims = (4,), batch_size=128, n_actions=2, fc = True, fc1 = 256,fc2 = 128)\r\n",
        "\r\n",
        "#store start values for decay\r\n",
        "gamma_start = agent.gamma\r\n",
        "epsilon_start = agent.epsilon\r\n",
        "tau_start = agent.tau\r\n",
        "\r\n",
        "scores, eps_history = [],[]\r\n",
        "n_games = 1000\r\n",
        "\r\n",
        "for i in range(n_games):\r\n",
        "    score = 0\r\n",
        "    done = False\r\n",
        "    observation = env.reset()\r\n",
        "    while not done:\r\n",
        "        action = agent.choose_action(observation)\r\n",
        "        observation_,reward,done,info = env.step(int(action))\r\n",
        "        #env.render() uncomment if u want to see how agent is getting trained, but rendering at every step increases the time taken to get trained\r\n",
        "        agent.store_actions(observation,action,observation_,reward,done)\r\n",
        "        agent.learn()\r\n",
        "        observation = observation_\r\n",
        "        score+=reward\r\n",
        "    scores.append(score)\r\n",
        "    eps_history.append(agent.epsilon)\r\n",
        "    avg_score = np.mean(scores[-100:])\r\n",
        "    if i%50 == 0:\r\n",
        "        print(\"episode : {} | score : {} | average score :{} | epsilon : {} | gamma : {} | tau : {}\".format(\r\n",
        "                                                                            i,score,avg_score,agent.epsilon, agent.gamma, agent.tau))\r\n",
        "    #decay tau,gamma,epsilon\r\n",
        "    agent.tau = decay(tau_start,i+1,0.01, constant = 0.001)\r\n",
        "    agent.gamma = decay(gamma_start,i+1,0.999,mode='max', constant = 0.001)\r\n",
        "    agent.epsilon = decay(epsilon_start,i+1,0.001,constant=0.001)\r\n",
        "\r\n",
        "    if i%2==0:\r\n",
        "        agent.train_targetnet()\r\n",
        "        \r\n",
        "T.save(agent.Q_eval.state_dict(),r'D:\\AI\\REINFORCEMENT_LEARNING\\DQN\\CartPole.pt')\r\n",
        "x = [i+1 for i in range(n_games)]\r\n",
        "plt.plot(x,scores)\r\n",
        "plt.scatter(x,eps_history)\r\n",
        "plt.savefig(r\"D:\\AI\\REINFORCEMENT_LEARNING\\DQN\\lCurve_cartpole.png\")   "
      ],
      "execution_count": 27,
      "outputs": [
        {
          "output_type": "stream",
          "text": [
            "episode : 0 | score : 12.0 | average score :12.0 | epsilon : 0.3 | gamma : 0.8 | tau : 0.3\n",
            "episode : 50 | score : 16.0 | average score :12.372549019607844 | epsilon : 0.2853688273502142 | gamma : 0.8410168771008193 | tau : 0.2853688273502142\n",
            "episode : 100 | score : 12.0 | average score :11.9 | epsilon : 0.27145122541078787 | gamma : 0.8841367344605182 | tau : 0.27145122541078787\n",
            "episode : 150 | score : 21.0 | average score :13.23 | epsilon : 0.25821239292751735 | gamma : 0.9294673941826265 | tau : 0.25821239292751735\n",
            "episode : 200 | score : 26.0 | average score :25.46 | epsilon : 0.24561922592339452 | gamma : 0.977122206528136 | tau : 0.24561922592339452\n",
            "episode : 250 | score : 56.0 | average score :53.45 | epsilon : 0.23364023492142144 | gamma : 0.999 | tau : 0.23364023492142144\n",
            "episode : 300 | score : 200.0 | average score :120.13 | epsilon : 0.22224546620451535 | gamma : 0.999 | tau : 0.22224546620451535\n",
            "episode : 350 | score : 200.0 | average score :184.62 | epsilon : 0.21140642691561404 | gamma : 0.999 | tau : 0.21140642691561404\n",
            "episode : 400 | score : 161.0 | average score :186.51 | epsilon : 0.20109601381069178 | gamma : 0.999 | tau : 0.20109601381069178\n",
            "episode : 450 | score : 159.0 | average score :165.56 | epsilon : 0.19128844548653198 | gamma : 0.999 | tau : 0.19128844548653198\n",
            "episode : 500 | score : 178.0 | average score :154.95 | epsilon : 0.18195919791379003 | gamma : 0.999 | tau : 0.18195919791379003\n",
            "episode : 550 | score : 200.0 | average score :163.48 | epsilon : 0.173084943114146 | gamma : 0.999 | tau : 0.173084943114146\n",
            "episode : 600 | score : 184.0 | average score :181.43 | epsilon : 0.16464349082820792 | gamma : 0.999 | tau : 0.16464349082820792\n",
            "episode : 650 | score : 200.0 | average score :192.83 | epsilon : 0.1566137330283048 | gamma : 0.999 | tau : 0.1566137330283048\n",
            "episode : 700 | score : 200.0 | average score :197.45 | epsilon : 0.14897559113742284 | gamma : 0.999 | tau : 0.14897559113742284\n",
            "episode : 750 | score : 200.0 | average score :193.17 | epsilon : 0.1417099658223044 | gamma : 0.999 | tau : 0.1417099658223044\n",
            "episode : 800 | score : 182.0 | average score :189.3 | epsilon : 0.13479868923516647 | gamma : 0.999 | tau : 0.13479868923516647\n",
            "episode : 850 | score : 137.0 | average score :174.71 | epsilon : 0.128224479584618 | gamma : 0.999 | tau : 0.128224479584618\n",
            "episode : 900 | score : 190.0 | average score :157.63 | epsilon : 0.12197089792217973 | gamma : 0.999 | tau : 0.12197089792217973\n",
            "episode : 950 | score : 185.0 | average score :157.41 | epsilon : 0.11602230703635034 | gamma : 0.999 | tau : 0.11602230703635034\n"
          ],
          "name": "stdout"
        },
        {
          "output_type": "display_data",
          "data": {
            "image/png": "[encoded data removed]",
            "text/plain": [
              "<Figure size 432x288 with 1 Axes>"
            ]
          },
          "metadata": {
            "tags": [],
            "needs_background": "light"
          }
        }
      ]
    },
    {
      "cell_type": "code",
      "metadata": {
        "id": "DsFlb9q6GjZh",
        "colab": {
          "base_uri": "https://localhost:8080/"
        },
        "outputId": "d9cc3b9f-8a72-4464-c147-54fbe3aef712"
      },
      "source": [
        "env = gym.make(\"SpaceInvaders-v0\")\r\n",
        "agent = Agent(gamma=0.8, epsilon=0.3, lr=0.001, tau=0.3, max_mem_size=10000,\r\n",
        "              input_dims = (4,75,75), batch_size=128, n_actions=6, fc = False, fc1 = 256,fc2 = 128)\r\n",
        "\r\n",
        "#store start values for decay\r\n",
        "gamma_start = agent.gamma\r\n",
        "epsilon_start = agent.epsilon\r\n",
        "tau_start = agent.tau\r\n",
        "\r\n",
        "scores, eps_history = [], []\r\n",
        "n_games = 200\r\n",
        "\r\n",
        "def preprocess(image):\r\n",
        "    image = cv2.cvtColor(image, cv2.COLOR_BGR2GRAY)\r\n",
        "    image = image[25:200]\r\n",
        "    image = cv2.resize(image,(75,75))\r\n",
        "    image = image[np.newaxis,:,:]\r\n",
        "    #image = image.transpose((2,0,1))\r\n",
        "    return image\r\n",
        "\r\n",
        "def decay(value ,time_step ,thr ,mode = 'min' ,constant=0.001):\r\n",
        "    if mode=='max':\r\n",
        "        constant = -1*constant\r\n",
        "    value = value*np.exp(-constant*time_step)\r\n",
        "    if mode=='max':\r\n",
        "        return min(value,thr)\r\n",
        "    else:\r\n",
        "        return max(value,thr)\r\n",
        "\r\n",
        "for i in range(n_games):\r\n",
        "    observation = env.reset()\r\n",
        "    done = False\r\n",
        "    score = 0\r\n",
        "    past_frames = [np.zeros((1,75,75)) for i in range(4)]\r\n",
        "    past_frames[-1] = preprocess(observation)\r\n",
        "    while not done:\r\n",
        "        state = np.concatenate(past_frames,axis=0)\r\n",
        "        action = agent.choose_action(state) \r\n",
        "        observation_, reward, done, info = env.step(int(action))\r\n",
        "        \r\n",
        "        past_frames.append(preprocess(observation))\r\n",
        "        past_frames = past_frames[1:]\r\n",
        "\r\n",
        "        state_ = np.concatenate(past_frames)\r\n",
        "        agent.store_actions(state,action,state_,reward,done)\r\n",
        "        agent.learn()\r\n",
        "\r\n",
        "        score+=reward\r\n",
        "\r\n",
        "\r\n",
        "    scores.append(score)\r\n",
        "    eps_history.append(agent.epsilon)\r\n",
        "    avg_score = np.mean(scores[-100:])\r\n",
        "    if i%10==0:\r\n",
        "        print(\"episode : {} | score : {} | average score :{} | epsilon : {} | gamma : {} | tau : {}\".format(\r\n",
        "                                                                            i,score,avg_score,agent.epsilon, agent.gamma, agent.tau))\r\n",
        "    \r\n",
        "    #decay tau,gamma,epsilon\r\n",
        "    agent.tau = decay(tau_start,i+1,0.1)\r\n",
        "    agent.gamma = decay(gamma_start,i+1,0.999,mode='max')\r\n",
        "    agent.epsilon = decay(epsilon_start,i+1,0.001,constant=0.03)\r\n",
        "\r\n",
        "    if i%2==0:\r\n",
        "        agent.train_targetnet()"
      ],
      "execution_count": null,
      "outputs": [
        {
          "output_type": "stream",
          "text": [
            "episode : 0 | score : 215.0 | average score :215.0 | epsilon : 0.3 | gamma : 0.8 | tau : 0.3\n",
            "episode : 10 | score : 170.0 | average score :178.63636363636363 | epsilon : 0.22224546620451535 | gamma : 0.8080401336673344 | tau : 0.29701495012475043\n",
            "episode : 20 | score : 220.0 | average score :157.85714285714286 | epsilon : 0.16464349082820792 | gamma : 0.8161610720214046 | tau : 0.2940596019920266\n",
            "episode : 30 | score : 240.0 | average score :195.0 | epsilon : 0.12197089792217974 | gamma : 0.8243636271628136 | tau : 0.29113366006455244\n",
            "episode : 40 | score : 315.0 | average score :224.02439024390245 | epsilon : 0.09035826357366064 | gamma : 0.8326486193539107 | tau : 0.2882368317456969\n",
            "episode : 50 | score : 295.0 | average score :227.94117647058823 | epsilon : 0.06693904804452894 | gamma : 0.8410168771008193 | tau : 0.2853688273502142\n",
            "episode : 60 | score : 235.0 | average score :237.21311475409837 | epsilon : 0.049589666466475966 | gamma : 0.8494692372362878 | tau : 0.2825293600752746\n",
            "episode : 70 | score : 540.0 | average score :249.7887323943662 | epsilon : 0.03673692847589457 | gamma : 0.8580065450033733 | tau : 0.27971814597178446\n",
            "episode : 80 | score : 305.0 | average score :262.71604938271605 | epsilon : 0.027215385986823753 | gamma : 0.866629654139967 | tau : 0.27693490391599074\n",
            "episode : 90 | score : 280.0 | average score :262.9120879120879 | epsilon : 0.020161653821924936 | gamma : 0.8753394269641683 | tau : 0.27417935558136847\n",
            "episode : 100 | score : 235.0 | average score :263.75 | epsilon : 0.014936120510359183 | gamma : 0.8841367344605182 | tau : 0.27145122541078787\n",
            "episode : 110 | score : 170.0 | average score :281.25 | epsilon : 0.011064950220372004 | gamma : 0.8930224563670971 | tau : 0.26875024058895847\n",
            "episode : 120 | score : 270.0 | average score :293.8 | epsilon : 0.00819711673418777 | gamma : 0.9019974812635007 | tau : 0.2660761310151472\n",
            "episode : 130 | score : 270.0 | average score :293.05 | epsilon : 0.0060725734337413175 | gamma : 0.9110627066596975 | tau : 0.2634286292761684\n"
          ],
          "name": "stdout"
        }
      ]
    },
    {
      "cell_type": "code",
      "metadata": {
        "id": "5KEWgiFIvWoU"
      },
      "source": [
        ""
      ],
      "execution_count": null,
      "outputs": []
    }
  ]
}